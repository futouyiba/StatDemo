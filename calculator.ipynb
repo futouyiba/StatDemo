{
 "cells": [
  {
   "cell_type": "code",
   "execution_count": 1,
   "metadata": {},
   "outputs": [
    {
     "name": "stdout",
     "output_type": "stream",
     "text": [
      "Water Temperature Affinity (affTemp): 0.9614432597730022\n"
     ]
    }
   ],
   "source": [
    "import math\n",
    "\n",
    "# Given values\n",
    "point_temperature = 21.8\n",
    "fish_temperature_fav = 23.5\n",
    "global_temp_tolerence_width = 6\n",
    "fish_temperature_affected_ratio = 3.5\n",
    "\n",
    "# Calculate water temperature affinity (affTemp)\n",
    "numerator = math.pow((point_temperature - fish_temperature_fav), 2)\n",
    "denominator = global_temp_tolerence_width * math.pow(fish_temperature_affected_ratio, 2)\n",
    "aff_temp = math.exp(- numerator / denominator)\n",
    "\n",
    "# Output the result\n",
    "print(f\"Water Temperature Affinity (affTemp): {aff_temp}\")\n"
   ]
  },
  {
   "cell_type": "code",
   "execution_count": null,
   "metadata": {},
   "outputs": [
    {
     "name": "stdout",
     "output_type": "stream",
     "text": [
      "Water Temperature Affinity (affTemp): 0.9127742719696592\n"
     ]
    }
   ],
   "source": [
    "import math\n",
    "\n",
    "# Given values\n",
    "point_temperature = 14.6 # water temperature: 146\n",
    "fish_temperature_fav = 22.0 # config: 220\n",
    "global_temp_tolerence_width = 6\n",
    "fish_temperature_affected_ratio = 10.0\n",
    "\n",
    "# Calculate water temperature affinity (affTemp)\n",
    "numerator = math.pow((point_temperature - fish_temperature_fav), 2)\n",
    "denominator = global_temp_tolerence_width * math.pow(fish_temperature_affected_ratio, 2)\n",
    "aff_temp = math.exp(- numerator / denominator)\n",
    "\n",
    "# Output the result\n",
    "print(f\"Water Temperature Affinity (affTemp): {aff_temp}\")\n"
   ]
  }
 ],
 "metadata": {
  "kernelspec": {
   "display_name": "fish",
   "language": "python",
   "name": "python3"
  },
  "language_info": {
   "codemirror_mode": {
    "name": "ipython",
    "version": 3
   },
   "file_extension": ".py",
   "mimetype": "text/x-python",
   "name": "python",
   "nbconvert_exporter": "python",
   "pygments_lexer": "ipython3",
   "version": "3.11.9"
  }
 },
 "nbformat": 4,
 "nbformat_minor": 2
}
