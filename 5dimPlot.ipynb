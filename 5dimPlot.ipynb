{
 "cells": [
  {
   "cell_type": "code",
   "execution_count": 1,
   "metadata": {},
   "outputs": [],
   "source": [
    "import pandas as pd\n",
    "import numpy as np\n",
    "import matplotlib.pyplot as plt\n",
    "import os"
   ]
  },
  {
   "cell_type": "code",
   "execution_count": 9,
   "metadata": {},
   "outputs": [],
   "source": [
    "# 自定义类\n",
    "class MyObject:\n",
    "    def __init__(self, **kwargs):\n",
    "        for key, value in kwargs.items():\n",
    "            setattr(self, key, value)\n",
    "\n",
    "    def __repr__(self):\n",
    "        return f\"MyObject({self.__dict__})\"\n",
    "\n",
    "# 竿组类，里面包含竿、线、鱼饵、钩子、渔轮、浮漂\n",
    "class Tackle:\n",
    "    def __init__(self, rod:MyObject, line:MyObject, bait:MyObject, hook:MyObject, reel:MyObject, float:MyObject, leader:MyObject = None):\n",
    "        self.rod:MyObject = rod\n",
    "        self.line:MyObject = line\n",
    "        self.bait:MyObject = bait\n",
    "        self.hook:MyObject = hook\n",
    "        self.reel:MyObject = reel\n",
    "        self.float:MyObject = float\n",
    "        self.leader:MyObject = leader\n",
    "\n",
    "    def __repr__(self):\n",
    "        return f\"Tackle({self.__dict__})\"\n",
    "    \n",
    "# 给dataframe添加一个方法getMyObject, 输入一个string， 通过name==nameString来查找对应的行，然后返回一个MyObject对象\n",
    "def getMyObject(df, nameString):\n",
    "    row = df[df['name'] == nameString]\n",
    "    if row.empty:\n",
    "        return None\n",
    "    return MyObject(**row.to_dict(orient='records')[0])\n",
    "\n",
    "pd.DataFrame.getMyObject = getMyObject\n",
    "\n"
   ]
  },
  {
   "cell_type": "code",
   "execution_count": 17,
   "metadata": {},
   "outputs": [
    {
     "data": {
      "text/html": [
       "<div>\n",
       "<style scoped>\n",
       "    .dataframe tbody tr th:only-of-type {\n",
       "        vertical-align: middle;\n",
       "    }\n",
       "\n",
       "    .dataframe tbody tr th {\n",
       "        vertical-align: top;\n",
       "    }\n",
       "\n",
       "    .dataframe thead th {\n",
       "        text-align: right;\n",
       "    }\n",
       "</style>\n",
       "<table border=\"1\" class=\"dataframe\">\n",
       "  <thead>\n",
       "    <tr style=\"text-align: right;\">\n",
       "      <th></th>\n",
       "      <th>id</th>\n",
       "      <th>quality</th>\n",
       "      <th>item_type</th>\n",
       "      <th>sub_type</th>\n",
       "      <th>name</th>\n",
       "      <th>mark</th>\n",
       "      <th>art_id</th>\n",
       "      <th>sale_type</th>\n",
       "      <th>buy_item</th>\n",
       "      <th>buy_cost</th>\n",
       "      <th>...</th>\n",
       "      <th>group_id</th>\n",
       "      <th>Unnamed: 12</th>\n",
       "      <th>Unnamed: 13</th>\n",
       "      <th>weight</th>\n",
       "      <th>min</th>\n",
       "      <th>max</th>\n",
       "      <th>min.1</th>\n",
       "      <th>max.1</th>\n",
       "      <th>length</th>\n",
       "      <th>hardness_type</th>\n",
       "    </tr>\n",
       "  </thead>\n",
       "  <tbody>\n",
       "    <tr>\n",
       "      <th>0</th>\n",
       "      <td>3012001</td>\n",
       "      <td>[道具品质]普通</td>\n",
       "      <td>[物品类型]钓竿</td>\n",
       "      <td>[鱼竿]直柄竿</td>\n",
       "      <td>Spinning_rods01</td>\n",
       "      <td>路亚-直柄竿</td>\n",
       "      <td>NaN</td>\n",
       "      <td>[出售类型]折价出售</td>\n",
       "      <td>item_currency_diamond</td>\n",
       "      <td>110</td>\n",
       "      <td>...</td>\n",
       "      <td>1</td>\n",
       "      <td>[鱼轮]纺车轮</td>\n",
       "      <td>NaN</td>\n",
       "      <td>120</td>\n",
       "      <td>7</td>\n",
       "      <td>21</td>\n",
       "      <td>0</td>\n",
       "      <td>5000</td>\n",
       "      <td>240</td>\n",
       "      <td>[竿硬度]L(软)</td>\n",
       "    </tr>\n",
       "    <tr>\n",
       "      <th>1</th>\n",
       "      <td>3012002</td>\n",
       "      <td>[道具品质]优秀</td>\n",
       "      <td>[物品类型]钓竿</td>\n",
       "      <td>[鱼竿]直柄竿</td>\n",
       "      <td>Spinning_rods02</td>\n",
       "      <td>路亚-直柄竿</td>\n",
       "      <td>NaN</td>\n",
       "      <td>[出售类型]折价出售</td>\n",
       "      <td>item_currency_coins</td>\n",
       "      <td>12000</td>\n",
       "      <td>...</td>\n",
       "      <td>2</td>\n",
       "      <td>[鱼轮]纺车轮</td>\n",
       "      <td>NaN</td>\n",
       "      <td>130</td>\n",
       "      <td>5</td>\n",
       "      <td>15</td>\n",
       "      <td>0</td>\n",
       "      <td>5000</td>\n",
       "      <td>194</td>\n",
       "      <td>[竿硬度]M(中)</td>\n",
       "    </tr>\n",
       "    <tr>\n",
       "      <th>2</th>\n",
       "      <td>3012003</td>\n",
       "      <td>[道具品质]稀有</td>\n",
       "      <td>[物品类型]钓竿</td>\n",
       "      <td>[鱼竿]直柄竿</td>\n",
       "      <td>Spinning_rods03</td>\n",
       "      <td>路亚-直柄竿</td>\n",
       "      <td>NaN</td>\n",
       "      <td>[出售类型]折价出售</td>\n",
       "      <td>item_currency_diamond</td>\n",
       "      <td>5500</td>\n",
       "      <td>...</td>\n",
       "      <td>3</td>\n",
       "      <td>[鱼轮]纺车轮</td>\n",
       "      <td>NaN</td>\n",
       "      <td>115</td>\n",
       "      <td>5</td>\n",
       "      <td>15</td>\n",
       "      <td>0</td>\n",
       "      <td>4500</td>\n",
       "      <td>198</td>\n",
       "      <td>[竿硬度]M(中)</td>\n",
       "    </tr>\n",
       "    <tr>\n",
       "      <th>3</th>\n",
       "      <td>3012004</td>\n",
       "      <td>[道具品质]普通</td>\n",
       "      <td>[物品类型]钓竿</td>\n",
       "      <td>[鱼竿]直柄竿</td>\n",
       "      <td>Spinning_rods04</td>\n",
       "      <td>路亚-直柄竿</td>\n",
       "      <td>NaN</td>\n",
       "      <td>[出售类型]折价出售</td>\n",
       "      <td>item_currency_diamond</td>\n",
       "      <td>80</td>\n",
       "      <td>...</td>\n",
       "      <td>4</td>\n",
       "      <td>[鱼轮]纺车轮</td>\n",
       "      <td>NaN</td>\n",
       "      <td>98</td>\n",
       "      <td>5</td>\n",
       "      <td>15</td>\n",
       "      <td>0</td>\n",
       "      <td>3500</td>\n",
       "      <td>208</td>\n",
       "      <td>[竿硬度]M(中)</td>\n",
       "    </tr>\n",
       "    <tr>\n",
       "      <th>4</th>\n",
       "      <td>3013001</td>\n",
       "      <td>[道具品质]优秀</td>\n",
       "      <td>[物品类型]钓竿</td>\n",
       "      <td>[鱼竿]枪柄竿</td>\n",
       "      <td>Casting_rods01</td>\n",
       "      <td>路亚-枪柄竿</td>\n",
       "      <td>NaN</td>\n",
       "      <td>[出售类型]折价出售</td>\n",
       "      <td>item_currency_coins</td>\n",
       "      <td>10000</td>\n",
       "      <td>...</td>\n",
       "      <td>5</td>\n",
       "      <td>[鱼轮]水滴轮</td>\n",
       "      <td>[鱼轮]鼓轮</td>\n",
       "      <td>110</td>\n",
       "      <td>5</td>\n",
       "      <td>15</td>\n",
       "      <td>0</td>\n",
       "      <td>5500</td>\n",
       "      <td>213</td>\n",
       "      <td>[竿硬度]M(中)</td>\n",
       "    </tr>\n",
       "  </tbody>\n",
       "</table>\n",
       "<p>5 rows × 21 columns</p>\n",
       "</div>"
      ],
      "text/plain": [
       "        id   quality item_type sub_type             name    mark  art_id  \\\n",
       "0  3012001  [道具品质]普通  [物品类型]钓竿  [鱼竿]直柄竿  Spinning_rods01  路亚-直柄竿     NaN   \n",
       "1  3012002  [道具品质]优秀  [物品类型]钓竿  [鱼竿]直柄竿  Spinning_rods02  路亚-直柄竿     NaN   \n",
       "2  3012003  [道具品质]稀有  [物品类型]钓竿  [鱼竿]直柄竿  Spinning_rods03  路亚-直柄竿     NaN   \n",
       "3  3012004  [道具品质]普通  [物品类型]钓竿  [鱼竿]直柄竿  Spinning_rods04  路亚-直柄竿     NaN   \n",
       "4  3013001  [道具品质]优秀  [物品类型]钓竿  [鱼竿]枪柄竿   Casting_rods01  路亚-枪柄竿     NaN   \n",
       "\n",
       "    sale_type               buy_item  buy_cost  ...  group_id  Unnamed: 12  \\\n",
       "0  [出售类型]折价出售  item_currency_diamond       110  ...         1      [鱼轮]纺车轮   \n",
       "1  [出售类型]折价出售    item_currency_coins     12000  ...         2      [鱼轮]纺车轮   \n",
       "2  [出售类型]折价出售  item_currency_diamond      5500  ...         3      [鱼轮]纺车轮   \n",
       "3  [出售类型]折价出售  item_currency_diamond        80  ...         4      [鱼轮]纺车轮   \n",
       "4  [出售类型]折价出售    item_currency_coins     10000  ...         5      [鱼轮]水滴轮   \n",
       "\n",
       "  Unnamed: 13 weight  min  max  min.1  max.1  length  hardness_type  \n",
       "0         NaN    120    7   21      0   5000     240      [竿硬度]L(软)  \n",
       "1         NaN    130    5   15      0   5000     194      [竿硬度]M(中)  \n",
       "2         NaN    115    5   15      0   4500     198      [竿硬度]M(中)  \n",
       "3         NaN     98    5   15      0   3500     208      [竿硬度]M(中)  \n",
       "4      [鱼轮]鼓轮    110    5   15      0   5500     213      [竿硬度]M(中)  \n",
       "\n",
       "[5 rows x 21 columns]"
      ]
     },
     "execution_count": 17,
     "metadata": {},
     "output_type": "execute_result"
    }
   ],
   "source": [
    "workbookName = \"./xlsx/tackle.xlsx\"\n",
    "\n",
    "# 读取excel文件中所有的sheet， 从第3个开始到最后一个，每个sheet取个dataframe的名字; 忽略第一行、第三行和第四行，用第二行作为列名\n",
    "dfRods = pd.read_excel(workbookName, sheet_name= 'Rods', header=0, skiprows=[0,2,3])\n",
    "dfLines = pd.read_excel(workbookName, sheet_name= 'Lines', header=0, skiprows=[0,2,3])\n",
    "dfReels = pd.read_excel(workbookName, sheet_name= 'Reels', header=0, skiprows=[0,2,3])\n",
    "dfLeaders = pd.read_excel(workbookName, sheet_name= 'Leaders', header=0, skiprows=[0,2,3])\n",
    "dfBaits = pd.read_excel(workbookName, sheet_name= 'Baits', header=0, skiprows=[0,2,3])\n",
    "dfFloats = pd.read_excel(workbookName, sheet_name= 'Floats', header=0, skiprows=[0,2,3])\n",
    "dfRods.head()"
   ]
  },
  {
   "cell_type": "code",
   "execution_count": 14,
   "metadata": {},
   "outputs": [
    {
     "name": "stdout",
     "output_type": "stream",
     "text": [
      "MyObject({'id': 3012004, 'quality': '[道具品质]普通', 'item_type': '[物品类型]钓竿', 'sub_type': '[鱼竿]直柄竿', 'name': 'Spinning_rods04', 'mark': '路亚-直柄竿', 'art_id': nan, 'sale_type': '[出售类型]折价出售', 'buy_item': 'item_currency_diamond', 'buy_cost': 80, 'durability': 20000, 'group_id': 4, 'Unnamed: 12': '[鱼轮]纺车轮', 'Unnamed: 13': nan, 'weight': 98, 'min': 5, 'max': 15, 'min.1': 0, 'max.1': 3500, 'length': 208, 'hardness_type': '[竿硬度]M(中)'})\n",
      "weight is: 98\n"
     ]
    }
   ],
   "source": [
    "testSpinningRods04 = dfRods.getMyObject(\"Spinning_rods04\")\n",
    "print(testSpinningRods04)\n",
    "print('weight is:', testSpinningRods04.weight)"
   ]
  },
  {
   "cell_type": "code",
   "execution_count": null,
   "metadata": {},
   "outputs": [],
   "source": [
    "# 接下来处理各项属性：远抛能力、承重能力、轻量化、敏感度、精准度\n",
    "# 基本的方法是：先定义一个计算方法；然后手工组合出一个最大值，最小值；然后在这个区间里做log对数缩放\n",
    "\n",
    "# 先处理钓重能力\n",
    "def getWeightCapacity(self:Tackle):\n",
    "    return min()"
   ]
  },
  {
   "cell_type": "markdown",
   "metadata": {},
   "source": [
    "钓重，rods的制约非常明显"
   ]
  },
  {
   "cell_type": "code",
   "execution_count": 18,
   "metadata": {},
   "outputs": [
    {
     "name": "stdout",
     "output_type": "stream",
     "text": [
      "[5000 5000 4500 3500 5500 3500 5000 7000 7000]\n"
     ]
    }
   ],
   "source": [
    "weight_points = dfRods['max.1'].values\n",
    "print(weight_points)"
   ]
  },
  {
   "cell_type": "code",
   "execution_count": 22,
   "metadata": {},
   "outputs": [
    {
     "name": "stdout",
     "output_type": "stream",
     "text": [
      "[ 5000  5000  4500  3500  5500  3500  5000  7000  7000  3000  5000  4500\n",
      "  3500  3500  6000 10000]\n"
     ]
    }
   ],
   "source": [
    "reelDrags = dfReels['drag'].values\n",
    "# append reel drags to the end of weight_points\n",
    "weight_points = np.append(weight_points, reelDrags)\n",
    "print(weight_points)"
   ]
  },
  {
   "cell_type": "code",
   "execution_count": 23,
   "metadata": {},
   "outputs": [
    {
     "name": "stdout",
     "output_type": "stream",
     "text": [
      "[5000 5000 4500 3500 5500 3500 5000 7000 7000 3000 5000 4500 3500 3500\n",
      " 6000]\n"
     ]
    }
   ],
   "source": [
    "lineDrags = dfLines['drag'].values\n",
    "# append line drags to the end of weight_points\n",
    "weight_points = np.append(weight_points, lineDrags)\n",
    "\n",
    "# exclude everything greater than 7000\n",
    "weight_points = weight_points[weight_points <= 7000]\n",
    "print(weight_points)"
   ]
  },
  {
   "cell_type": "code",
   "execution_count": 30,
   "metadata": {},
   "outputs": [
    {
     "name": "stdout",
     "output_type": "stream",
     "text": [
      "[5071.98537717 4951.52680231 4557.13941066 3529.26932434 5596.24366835\n",
      " 3486.76419503 5001.32337749 6989.21980191 7051.01231374 2968.87924172\n",
      " 4917.24410248 4475.86435226 3516.1507594  3522.81555807 6035.1809558 ]\n"
     ]
    },
    {
     "data": {
      "image/png": "[encoded data removed]",
      "text/plain": [
       "<Figure size 640x480 with 1 Axes>"
      ]
     },
     "metadata": {},
     "output_type": "display_data"
    },
    {
     "data": {
      "image/png": "[encoded data removed]",
      "text/plain": [
       "<Figure size 640x480 with 1 Axes>"
      ]
     },
     "metadata": {},
     "output_type": "display_data"
    }
   ],
   "source": [
    "# add random noise to weight_points(std 50)\n",
    "weight_points = weight_points + np.random.normal(0, 50, weight_points.shape)\n",
    "print(weight_points)\n",
    "\n",
    "# plot weight points as scatter points\n",
    "plt.scatter(weight_points, np.zeros_like(weight_points))\n",
    "plt.show()\n",
    "\n",
    "# plot weight points as scatter points, but points with same values are shown obviously\n",
    "plt.scatter(weight_points, np.zeros_like(weight_points), alpha=0.5)\n",
    "plt.show()"
   ]
  },
  {
   "cell_type": "code",
   "execution_count": 32,
   "metadata": {},
   "outputs": [
    {
     "name": "stdout",
     "output_type": "stream",
     "text": [
      "[0.51439708 0.49030536 0.41142788 0.20585386 0.61924873 0.19735284\n",
      " 0.50026468 0.89784396 0.91020246 0.09377585 0.48344882 0.39517287\n",
      " 0.20323015 0.20456311 0.70703619]\n"
     ]
    }
   ],
   "source": [
    "# 用最小值2500， 最大值7500，在这个范围里算一个钓重的float\n",
    "minWeight = 2500\n",
    "maxWeight = 7500\n",
    "weightFloats = (weight_points - minWeight) / (maxWeight - minWeight)\n",
    "print(weightFloats)"
   ]
  },
  {
   "cell_type": "code",
   "execution_count": 48,
   "metadata": {},
   "outputs": [
    {
     "data": {
      "image/png": "[encoded data removed]",
      "text/plain": [
       "<Figure size 640x480 with 1 Axes>"
      ]
     },
     "metadata": {},
     "output_type": "display_data"
    }
   ],
   "source": [
    "# plot weight floats as scatter points\n",
    "plt.scatter(weightFloats, np.zeros_like(weightFloats), alpha=0.5)\n",
    "plt.show()"
   ]
  },
  {
   "cell_type": "markdown",
   "metadata": {},
   "source": [
    "承重浮点数计算公式：\n",
    "\n",
    "weight = min(rod.line_weight,  reel.line_weight\n",
    "\n",
    "minWeight = 2500\n",
    "\n",
    "maxWeight = 7500\n",
    "\n",
    "weightIndicator = (weight_points - minWeight) / (maxWeight - minWeight)"
   ]
  },
  {
   "cell_type": "markdown",
   "metadata": {},
   "source": [
    "# 计算轻量化"
   ]
  },
  {
   "cell_type": "code",
   "execution_count": 34,
   "metadata": {},
   "outputs": [
    {
     "name": "stdout",
     "output_type": "stream",
     "text": [
      "[120 130 115  98 110  96  90 180 210]\n"
     ]
    }
   ],
   "source": [
    "rodWeights = dfRods['weight'].values\n",
    "reelWeights = dfReels['weight'].values\n",
    "print(rodWeights)"
   ]
  },
  {
   "cell_type": "code",
   "execution_count": 38,
   "metadata": {},
   "outputs": [
    {
     "data": {
      "image/png": "[encoded data removed]",
      "text/plain": [
       "<Figure size 640x480 with 1 Axes>"
      ]
     },
     "metadata": {},
     "output_type": "display_data"
    },
    {
     "data": {
      "image/png": "[encoded data removed]",
      "text/plain": [
       "<Figure size 640x480 with 1 Axes>"
      ]
     },
     "metadata": {},
     "output_type": "display_data"
    }
   ],
   "source": [
    "# add noise to rod weights and reel weights\n",
    "rodWeightsNoised = rodWeights + np.random.normal(0, 10, rodWeights.shape)\n",
    "reelWeightsNoised = reelWeights + np.random.normal(0, 10, reelWeights.shape)\n",
    "\n",
    "# plot rod weights as scatter points\n",
    "plt.scatter(rodWeightsNoised, np.zeros_like(rodWeights))\n",
    "plt.show()\n",
    "\n",
    "# plot reel weights as scatter points\n",
    "plt.scatter(reelWeightsNoised, np.zeros_like(reelWeights))\n",
    "plt.show()"
   ]
  },
  {
   "cell_type": "code",
   "execution_count": 40,
   "metadata": {},
   "outputs": [
    {
     "name": "stdout",
     "output_type": "stream",
     "text": [
      "457.367822084267\n",
      "263.6487296828268\n"
     ]
    }
   ],
   "source": [
    "# calc  max reel + rod weight\n",
    "maxReelRodWeight = np.max(rodWeightsNoised) + np.max(reelWeightsNoised)\n",
    "print(maxReelRodWeight)\n",
    "\n",
    "# calc min reel + rod weight\n",
    "minReelRodWeight = np.min(rodWeightsNoised) + np.min(reelWeightsNoised)\n",
    "print(minReelRodWeight)"
   ]
  },
  {
   "cell_type": "code",
   "execution_count": 46,
   "metadata": {},
   "outputs": [
    {
     "name": "stdout",
     "output_type": "stream",
     "text": [
      "(9, 7)\n",
      "[[287.1648352  374.72927432 293.47633576 312.0415882  327.27297056\n",
      "  364.09709529 372.13038209]\n",
      " [286.08169157 373.64613068 292.39319213 310.95844457 326.18982692\n",
      "  363.01395166 371.04723846]\n",
      " [293.0442333  380.60867241 299.35573385 317.9209863  333.15236865\n",
      "  369.97649339 378.00978018]\n",
      " [268.60842969 356.1728688  274.91993025 293.48518269 308.71656504\n",
      "  345.54068978 353.57397658]\n",
      " [265.80188715 353.36632626 272.1133877  290.67864015 305.9100225\n",
      "  342.73414723 350.76743403]\n",
      " [266.1756839  353.74012302 272.48718446 291.0524369  306.28381926\n",
      "  343.10794399 351.14123079]\n",
      " [263.64872968 351.2131688  269.96023024 288.52548268 303.75686504\n",
      "  340.58098977 348.61427657]\n",
      " [341.16509391 428.72953303 347.47659447 366.04184691 381.27322927\n",
      "  418.097354   426.1306408 ]\n",
      " [369.80338297 457.36782208 376.11488353 394.68013597 409.91151832\n",
      "  446.73564306 454.76892986]]\n"
     ]
    }
   ],
   "source": [
    "# calc combined reel + rod weight float\n",
    "combinedWeights = rodWeightsNoised[:, np.newaxis] + reelWeightsNoised[np.newaxis, :]\n",
    "print(combinedWeights.shape)\n",
    "print(combinedWeights)"
   ]
  },
  {
   "cell_type": "code",
   "execution_count": 47,
   "metadata": {},
   "outputs": [
    {
     "data": {
      "image/png": "[encoded data removed]",
      "text/plain": [
       "<Figure size 640x480 with 1 Axes>"
      ]
     },
     "metadata": {},
     "output_type": "display_data"
    }
   ],
   "source": [
    "min = 250\n",
    "max = 500\n",
    "\n",
    "combinedWeightsFloats = (max - combinedWeights) / (max - min)\n",
    "\n",
    "# plot combined reel + rod weight floats as scatter points, alpha=0.5\n",
    "plt.scatter(combinedWeightsFloats, np.zeros_like(combinedWeightsFloats), alpha=0.5)\n",
    "plt.show()"
   ]
  },
  {
   "cell_type": "markdown",
   "metadata": {},
   "source": [
    "轻量化公式为：\n",
    "\n",
    "min = 250\n",
    "\n",
    "max = 500\n",
    "\n",
    "combineWeight = rod.weight + reel.weight\n",
    "\n",
    "combinedWeightFloat = (max - combinedWeight) / (max - min)"
   ]
  },
  {
   "cell_type": "markdown",
   "metadata": {},
   "source": [
    "# 远抛能力\n",
    "\n",
    "1. 确定各参数的数值范围和权重\n",
    "\n",
    "2. 组合公式\n"
   ]
  },
  {
   "cell_type": "markdown",
   "metadata": {},
   "source": []
  },
  {
   "cell_type": "code",
   "execution_count": 50,
   "metadata": {},
   "outputs": [
    {
     "name": "stdout",
     "output_type": "stream",
     "text": [
      "[1.1 1.  1.  1.  1.  1.1 1.1 0.9 0.9]\n"
     ]
    }
   ],
   "source": [
    "kRodLength = dfRods['length'].values*0.1\n",
    "rodHardnessType = dfRods['hardness_type'].values\n",
    "# [竿硬度]L(软)对应1.1， [竿硬度]M(中)对应1.0， [竿硬度]MH(中硬)对应0.9\n",
    "kRodHardness = np.where(rodHardnessType == '[竿硬度]L(软)', 1.1, np.where(rodHardnessType == '[竿硬度]M(中)', 1.0, 0.9))\n",
    "print(kRodHardness)\n"
   ]
  },
  {
   "cell_type": "code",
   "execution_count": 51,
   "metadata": {},
   "outputs": [
    {
     "name": "stdout",
     "output_type": "stream",
     "text": [
      "[1.2 1.3 1.3 1.2 1.2 1.2 1.3]\n"
     ]
    }
   ],
   "source": [
    "reelSize = dfReels['spool_size'].values\n",
    "kReelSize = (reelSize-1000)/5000 + 1\n",
    "print(kReelSize)"
   ]
  },
  {
   "cell_type": "code",
   "execution_count": 54,
   "metadata": {},
   "outputs": [
    {
     "name": "stdout",
     "output_type": "stream",
     "text": [
      "[1.1   1.14  1.056]\n"
     ]
    }
   ],
   "source": [
    "lineD = dfLines['diameter'].values\n",
    "kLineDiameter = 1.2 - (lineD * 0.004)\n",
    "print(kLineDiameter)\n",
    "\n"
   ]
  },
  {
   "cell_type": "code",
   "execution_count": 55,
   "metadata": {},
   "outputs": [
    {
     "name": "stdout",
     "output_type": "stream",
     "text": [
      "[0.9 1.1 1. ]\n"
     ]
    }
   ],
   "source": [
    "lineMaterial = dfLines['sub_type'].values\n",
    "# [主线]尼龙线 对应0.9， [主线]编织线 对应1.1， [主线]氟碳线对应1.0\n",
    "kLineMaterial = np.where(lineMaterial == '[主线]尼龙线', 0.9, np.where(lineMaterial == '[主线]编织线', 1.1, 1.0))\n",
    "print(kLineMaterial)\n",
    "\n",
    "# if (lineMaterial == \"[主线]尼龙线\")\n",
    "# {\n",
    "#     kLineMaterial = 0.9;\n",
    "# }\n",
    "# else if (lineMaterial == \"[主线]编织线\")\n",
    "# {\n",
    "#     kLineMaterial = 1.1;\n",
    "# }\n",
    "# else\n",
    "# {\n",
    "#     kLineMaterial = 1.0;\n",
    "# }"
   ]
  },
  {
   "cell_type": "code",
   "execution_count": 56,
   "metadata": {},
   "outputs": [
    {
     "name": "stdout",
     "output_type": "stream",
     "text": [
      "[0.9 0.9 0.9 0.9 0.9 1.1 0.9 1.1 1.1 0.9 0.9 0.9 0.9 0.9 0.9 0.9 0.9 0.9\n",
      " 0.9 0.9 1.1 1.1 1.1 1.1 1.1 1.1 1.1 0.9 0.9 0.9 0.9]\n"
     ]
    }
   ],
   "source": [
    "baitWeight = dfBaits['weight'].values\n",
    "# bait weight < 7, k = 0.9; bait weight between 7 and 28, k = 1.1; bait weight > 28, k = 0.95\n",
    "kBaitWeight = np.where(baitWeight < 7, 0.9, np.where(baitWeight > 28, 0.95, 1.1))\n",
    "print(kBaitWeight)\n",
    "\n",
    "# if (baitWeight < 7)\n",
    "# {\n",
    "#     kBaitWeight = 0.9;\n",
    "# }\n",
    "# else if (baitWeight > 28)\n",
    "# {\n",
    "#     kBaitWeight = 0.95;\n",
    "# }\n",
    "# else\n",
    "# {\n",
    "#     kBaitWeight = 1.1;\n",
    "# }"
   ]
  },
  {
   "cell_type": "code",
   "execution_count": 57,
   "metadata": {},
   "outputs": [
    {
     "name": "stdout",
     "output_type": "stream",
     "text": [
      "(3, 9, 7, 31)\n"
     ]
    }
   ],
   "source": [
    "kLine = kLineDiameter * kLineMaterial\n",
    "kRod = kRodLength * kRodHardness\n",
    "# kLine，kRod，kReelSize，kBaitWeight作为四个维度，broadcast相乘得到一个4维的矩阵\n",
    "castPotential = kLine[:, np.newaxis, np.newaxis, np.newaxis] * kRod[np.newaxis, :, np.newaxis, np.newaxis] * kReelSize[np.newaxis, np.newaxis, :, np.newaxis] * kBaitWeight[np.newaxis, np.newaxis, np.newaxis, :]\n",
    "print(castPotential.shape)"
   ]
  },
  {
   "cell_type": "code",
   "execution_count": 60,
   "metadata": {},
   "outputs": [
    {
     "data": {
      "image/png": "[encoded data removed]",
      "text/plain": [
       "<Figure size 640x480 with 1 Axes>"
      ]
     },
     "metadata": {},
     "output_type": "display_data"
    }
   ],
   "source": [
    "# plot castPotential as scatter points, alpha=0.5\n",
    "plt.scatter(castPotential, np.zeros_like(castPotential), alpha=0.01)\n",
    "plt.show()"
   ]
  },
  {
   "cell_type": "code",
   "execution_count": 96,
   "metadata": {},
   "outputs": [
    {
     "data": {
      "image/png": "[encoded data removed]",
      "text/plain": [
       "<Figure size 640x480 with 1 Axes>"
      ]
     },
     "metadata": {},
     "output_type": "display_data"
    }
   ],
   "source": [
    "loggedCastPotential = np.power(castPotential,0.1)\n",
    "loggedCastPotential = np.log(loggedCastPotential)/np.log(1.14) - 2.4\n",
    "# loggedCastPotential = np.log(castPotential)/np.log(85)\n",
    "# loggedCastPotential = np.log(castPotential)/np.log(4)-2.1\n",
    "\n",
    "\n",
    "plt.scatter(loggedCastPotential, np.zeros_like(loggedCastPotential), alpha=0.01)\n",
    "plt.show()"
   ]
  },
  {
   "cell_type": "code",
   "execution_count": null,
   "metadata": {},
   "outputs": [],
   "source": []
  }
 ],
 "metadata": {
  "kernelspec": {
   "display_name": "futoubase",
   "language": "python",
   "name": "python3"
  },
  "language_info": {
   "codemirror_mode": {
    "name": "ipython",
    "version": 3
   },
   "file_extension": ".py",
   "mimetype": "text/x-python",
   "name": "python",
   "nbconvert_exporter": "python",
   "pygments_lexer": "ipython3",
   "version": "3.12.4"
  }
 },
 "nbformat": 4,
 "nbformat_minor": 2
}
