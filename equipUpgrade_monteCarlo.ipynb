{
 "cells": [
  {
   "cell_type": "code",
   "execution_count": 24,
   "metadata": {},
   "outputs": [
    {
     "name": "stdout",
     "output_type": "stream",
     "text": [
      "模拟 100000 次后，从1级升到13级平均需要的强化次数约为：18.261\n"
     ]
    }
   ],
   "source": [
    "import random\n",
    "\n",
    "def simulate_one_run():\n",
    "    \"\"\"\n",
    "    模拟一次从1级升到13级的过程，返回本次所需的强化次数。\n",
    "    \"\"\"\n",
    "    level = 1\n",
    "    tries = 0\n",
    "    while level < 13:\n",
    "        tries += 1\n",
    "        \n",
    "        if level < 5:\n",
    "            # 1～4级：强化100%成功（+1级）\n",
    "            level += 1\n",
    "        \n",
    "        elif level < 10:\n",
    "            # 5～9级：60% 成功（+1级），40% 失败（不变）\n",
    "            if random.random() < 0.6:\n",
    "                level += 1\n",
    "        \n",
    "        else:\n",
    "            # 10～15级：60% 成功（+1级），30% 失败（不变），10% 降级（-1级）\n",
    "            r = random.random()\n",
    "            if r < 0.6:\n",
    "                level += 1\n",
    "            elif r < 0.9:\n",
    "                # 0.3 概率什么也不变\n",
    "                pass\n",
    "            else:\n",
    "                # 0.1 概率降一级\n",
    "                level -= 1\n",
    "                # 例如从10降到9，以后又回到第二档概率\n",
    "            \n",
    "    return tries\n",
    "\n",
    "\n",
    "def main():\n",
    "    N = 100000\n",
    "    total_tries = 0\n",
    "    \n",
    "    for _ in range(N):\n",
    "        total_tries += simulate_one_run()\n",
    "    \n",
    "    avg_tries = total_tries / N\n",
    "    print(f\"模拟 {N} 次后，从1级升到13级平均需要的强化次数约为：{avg_tries:.3f}\")\n",
    "\n",
    "\n",
    "if __name__ == \"__main__\":\n",
    "    main()\n"
   ]
  }
 ],
 "metadata": {
  "kernelspec": {
   "display_name": "Python 3",
   "language": "python",
   "name": "python3"
  },
  "language_info": {
   "codemirror_mode": {
    "name": "ipython",
    "version": 3
   },
   "file_extension": ".py",
   "mimetype": "text/x-python",
   "name": "python",
   "nbconvert_exporter": "python",
   "pygments_lexer": "ipython3",
   "version": "3.11.9"
  }
 },
 "nbformat": 4,
 "nbformat_minor": 2
}
