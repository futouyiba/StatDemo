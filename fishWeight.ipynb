{
 "cells": [
  {
   "cell_type": "code",
   "execution_count": 4,
   "metadata": {},
   "outputs": [
    {
     "ename": "TypeError",
     "evalue": "the JSON object must be str, bytes or bytearray, not module",
     "output_type": "error",
     "traceback": [
      "\u001b[1;31m---------------------------------------------------------------------------\u001b[0m",
      "\u001b[1;31mTypeError\u001b[0m                                 Traceback (most recent call last)",
      "Cell \u001b[1;32mIn[4], line 4\u001b[0m\n\u001b[0;32m      1\u001b[0m json \u001b[38;5;241m=\u001b[39m \u001b[38;5;124m\"\"\"\u001b[39m\u001b[38;5;124m{\u001b[39m\u001b[38;5;124m\"\u001b[39m\u001b[38;5;124mfile\u001b[39m\u001b[38;5;124m\"\u001b[39m\u001b[38;5;124m:\u001b[39m\u001b[38;5;124m\"\u001b[39m\u001b[38;5;124mE:/GoWork/src/fisher/hook2srv/internal/logic/logic_weight/fish_weight.go:224\u001b[39m\u001b[38;5;124m\"\u001b[39m\u001b[38;5;124m,\u001b[39m\u001b[38;5;124m\"\u001b[39m\u001b[38;5;124mfunc\u001b[39m\u001b[38;5;124m\"\u001b[39m\u001b[38;5;124m:\u001b[39m\u001b[38;5;124m\"\u001b[39m\u001b[38;5;124mCalcPondFishHabitFishWeight\u001b[39m\u001b[38;5;124m\"\u001b[39m\u001b[38;5;124m,\u001b[39m\u001b[38;5;124m\"\u001b[39m\u001b[38;5;124mlevel\u001b[39m\u001b[38;5;124m\"\u001b[39m\u001b[38;5;124m:\u001b[39m\u001b[38;5;124m\"\u001b[39m\u001b[38;5;124mdebug\u001b[39m\u001b[38;5;124m\"\u001b[39m\u001b[38;5;124m,\u001b[39m\u001b[38;5;124m\"\u001b[39m\u001b[38;5;124mmsg\u001b[39m\u001b[38;5;124m\"\u001b[39m\u001b[38;5;124m:\u001b[39m\u001b[38;5;124m\"\u001b[39m\u001b[38;5;124mpondId:301020000, baitId:30510400301, waterTemp:200, structList:[UWS_WATER_GRASS], logLight:0.000000, layerList:[MWLT_SURFACE MWLT_MIDDLE] fishWeight:map[1010033:180 1010034:180 1010035:90 1010041:0 1010042:0 1010043:0 1010044:0 1010047:238 1010048:238 1010061:324 1010062:162 1010063:115 1010071:283 1010075:283 1010078:324 1010081:115 1010120:305 1010210:305 1010290:0]\u001b[39m\u001b[38;5;124m\"\u001b[39m\u001b[38;5;124m,\u001b[39m\u001b[38;5;124m\"\u001b[39m\u001b[38;5;124mplayer_id\u001b[39m\u001b[38;5;124m\"\u001b[39m\u001b[38;5;124m:0,\u001b[39m\u001b[38;5;124m\"\u001b[39m\u001b[38;5;124mproductID\u001b[39m\u001b[38;5;124m\"\u001b[39m\u001b[38;5;124m:1,\u001b[39m\u001b[38;5;124m\"\u001b[39m\u001b[38;5;124mtime\u001b[39m\u001b[38;5;124m\"\u001b[39m\u001b[38;5;124m:\u001b[39m\u001b[38;5;124m\"\u001b[39m\u001b[38;5;124m2025-05-26T17:17:59.0408156+08:00\u001b[39m\u001b[38;5;124m\"\u001b[39m\u001b[38;5;124m,\u001b[39m\u001b[38;5;124m\"\u001b[39m\u001b[38;5;124mtrace_id\u001b[39m\u001b[38;5;124m\"\u001b[39m\u001b[38;5;124m:\u001b[39m\u001b[38;5;124m\"\u001b[39m\u001b[38;5;124m50eedc68-3a12-11f0-a10c-50ebf62e02d8\u001b[39m\u001b[38;5;124m\"\u001b[39m\u001b[38;5;124m}\u001b[39m\u001b[38;5;124m\"\"\"\u001b[39m\n\u001b[0;32m      3\u001b[0m \u001b[38;5;28;01mimport\u001b[39;00m \u001b[38;5;21;01mjson\u001b[39;00m\n\u001b[1;32m----> 4\u001b[0m jsonObj \u001b[38;5;241m=\u001b[39m json\u001b[38;5;241m.\u001b[39mloads(json)\n\u001b[0;32m      5\u001b[0m fishWeightStr \u001b[38;5;241m=\u001b[39m jsonObj[\u001b[38;5;124m\"\u001b[39m\u001b[38;5;124mmsg\u001b[39m\u001b[38;5;124m\"\u001b[39m]\u001b[38;5;241m.\u001b[39msplit(\u001b[38;5;124m\"\u001b[39m\u001b[38;5;124mfishWeight:\u001b[39m\u001b[38;5;124m\"\u001b[39m)[\u001b[38;5;241m1\u001b[39m]\n\u001b[0;32m      7\u001b[0m fishWeightStr\n",
      "File \u001b[1;32mc:\\Users\\futou\\.conda\\envs\\fish\\Lib\\json\\__init__.py:339\u001b[0m, in \u001b[0;36mloads\u001b[1;34m(s, cls, object_hook, parse_float, parse_int, parse_constant, object_pairs_hook, **kw)\u001b[0m\n\u001b[0;32m    337\u001b[0m \u001b[38;5;28;01melse\u001b[39;00m:\n\u001b[0;32m    338\u001b[0m     \u001b[38;5;28;01mif\u001b[39;00m \u001b[38;5;129;01mnot\u001b[39;00m \u001b[38;5;28misinstance\u001b[39m(s, (\u001b[38;5;28mbytes\u001b[39m, \u001b[38;5;28mbytearray\u001b[39m)):\n\u001b[1;32m--> 339\u001b[0m         \u001b[38;5;28;01mraise\u001b[39;00m \u001b[38;5;167;01mTypeError\u001b[39;00m(\u001b[38;5;124mf\u001b[39m\u001b[38;5;124m'\u001b[39m\u001b[38;5;124mthe JSON object must be str, bytes or bytearray, \u001b[39m\u001b[38;5;124m'\u001b[39m\n\u001b[0;32m    340\u001b[0m                         \u001b[38;5;124mf\u001b[39m\u001b[38;5;124m'\u001b[39m\u001b[38;5;124mnot \u001b[39m\u001b[38;5;132;01m{\u001b[39;00ms\u001b[38;5;241m.\u001b[39m\u001b[38;5;18m__class__\u001b[39m\u001b[38;5;241m.\u001b[39m\u001b[38;5;18m__name__\u001b[39m\u001b[38;5;132;01m}\u001b[39;00m\u001b[38;5;124m'\u001b[39m)\n\u001b[0;32m    341\u001b[0m     s \u001b[38;5;241m=\u001b[39m s\u001b[38;5;241m.\u001b[39mdecode(detect_encoding(s), \u001b[38;5;124m'\u001b[39m\u001b[38;5;124msurrogatepass\u001b[39m\u001b[38;5;124m'\u001b[39m)\n\u001b[0;32m    343\u001b[0m \u001b[38;5;28;01mif\u001b[39;00m (\u001b[38;5;28mcls\u001b[39m \u001b[38;5;129;01mis\u001b[39;00m \u001b[38;5;28;01mNone\u001b[39;00m \u001b[38;5;129;01mand\u001b[39;00m object_hook \u001b[38;5;129;01mis\u001b[39;00m \u001b[38;5;28;01mNone\u001b[39;00m \u001b[38;5;129;01mand\u001b[39;00m\n\u001b[0;32m    344\u001b[0m         parse_int \u001b[38;5;129;01mis\u001b[39;00m \u001b[38;5;28;01mNone\u001b[39;00m \u001b[38;5;129;01mand\u001b[39;00m parse_float \u001b[38;5;129;01mis\u001b[39;00m \u001b[38;5;28;01mNone\u001b[39;00m \u001b[38;5;129;01mand\u001b[39;00m\n\u001b[0;32m    345\u001b[0m         parse_constant \u001b[38;5;129;01mis\u001b[39;00m \u001b[38;5;28;01mNone\u001b[39;00m \u001b[38;5;129;01mand\u001b[39;00m object_pairs_hook \u001b[38;5;129;01mis\u001b[39;00m \u001b[38;5;28;01mNone\u001b[39;00m \u001b[38;5;129;01mand\u001b[39;00m \u001b[38;5;129;01mnot\u001b[39;00m kw):\n",
      "\u001b[1;31mTypeError\u001b[0m: the JSON object must be str, bytes or bytearray, not module"
     ]
    }
   ],
   "source": [
    "json = \"\"\"{\"file\":\"E:/GoWork/src/fisher/hook2srv/internal/logic/logic_weight/fish_weight.go:224\",\"func\":\"CalcPondFishHabitFishWeight\",\"level\":\"debug\",\"msg\":\"pondId:301020000, baitId:30510400301, waterTemp:200, structList:[UWS_WATER_GRASS], logLight:0.000000, layerList:[MWLT_SURFACE MWLT_MIDDLE] fishWeight:map[1010033:180 1010034:180 1010035:90 1010041:0 1010042:0 1010043:0 1010044:0 1010047:238 1010048:238 1010061:324 1010062:162 1010063:115 1010071:283 1010075:283 1010078:324 1010081:115 1010120:305 1010210:305 1010290:0]\",\"player_id\":0,\"productID\":1,\"time\":\"2025-05-26T17:17:59.0408156+08:00\",\"trace_id\":\"50eedc68-3a12-11f0-a10c-50ebf62e02d8\"}\"\"\"\n",
    "\n",
    "import json\n",
    "jsonObj = json.loads(json)\n",
    "fishWeightStr = jsonObj[\"msg\"].split(\"fishWeight:\")[1]\n",
    "\n",
    "fishWeightStr"
   ]
  },
  {
   "cell_type": "code",
   "execution_count": 1,
   "metadata": {},
   "outputs": [
    {
     "name": "stdout",
     "output_type": "stream",
     "text": [
      "提取结果：\n",
      "{1010033: 180, 1010034: 180, 1010035: 90, 1010041: 0, 1010042: 0, 1010043: 0, 1010044: 0, 1010047: 238, 1010048: 238, 1010061: 324, 1010062: 162, 1010063: 115, 1010071: 283, 1010075: 283, 1010078: 324, 1010081: 115, 1010120: 305, 1010210: 305, 1010290: 0}\n"
     ]
    }
   ],
   "source": [
    "import json\n",
    "\n",
    "json_str = \"\"\"{\"file\":\"E:/GoWork/src/fisher/hook2srv/internal/logic/logic_weight/fish_weight.go:224\",\"func\":\"CalcPondFishHabitFishWeight\",\"level\":\"debug\",\"msg\":\"pondId:301020000, baitId:30510400301, waterTemp:200, structList:[UWS_WATER_GRASS], logLight:0.000000, layerList:[MWLT_SURFACE MWLT_MIDDLE] fishWeight:map[1010033:180 1010034:180 1010035:90 1010041:0 1010042:0 1010043:0 1010044:0 1010047:238 1010048:238 1010061:324 1010062:162 1010063:115 1010071:283 1010075:283 1010078:324 1010081:115 1010120:305 1010210:305 1010290:0]\",\"player_id\":0,\"productID\":1,\"time\":\"2025-05-26T17:17:59.0408156+08:00\",\"trace_id\":\"50eedc68-3a12-11f0-a10c-50ebf62e02d8\"}\"\"\"\n",
    "\n",
    "try:\n",
    "    # 解析JSON\n",
    "    data = json.loads(json_str)\n",
    "    msg = data[\"msg\"]\n",
    "    \n",
    "    # 分割fishWeight部分\n",
    "    fish_weight_str = msg.split(\"fishWeight:\")[1].split(']')[0] + ']'  # 保留完整结构\n",
    "    fish_weight_str = fish_weight_str.replace(\"map[\", \"\").replace(\"]\", \"\")\n",
    "    \n",
    "    # 转换为字典\n",
    "    fish_weight_dict = {}\n",
    "    pairs = fish_weight_str.split()\n",
    "    for pair in pairs:\n",
    "        key, value = pair.split(':')\n",
    "        fish_weight_dict[int(key)] = int(value)\n",
    "        \n",
    "    print(\"提取结果：\")\n",
    "    print(fish_weight_dict)\n",
    "    \n",
    "except KeyError:\n",
    "    print(\"JSON中缺少msg字段\")\n",
    "except IndexError:\n",
    "    print(\"msg中未找到fishWeight数据\")\n",
    "except Exception as e:\n",
    "    print(f\"处理异常: {str(e)}\")"
   ]
  },
  {
   "cell_type": "code",
   "execution_count": 2,
   "metadata": {},
   "outputs": [
    {
     "name": "stdout",
     "output_type": "stream",
     "text": [
      "提取结果：\n",
      "{1010033: 180, 1010034: 180, 1010035: 90, 1010041: 0, 1010042: 0, 1010043: 0, 1010044: 0, 1010047: 238, 1010048: 238, 1010061: 324, 1010062: 162, 1010063: 115, 1010071: 283, 1010075: 283, 1010078: 324, 1010081: 115, 1010120: 305, 1010210: 305, 1010290: 0}\n",
      "\n",
      "权重总和：3142\n"
     ]
    }
   ],
   "source": [
    "# 将fish_weight_str解析\n",
    "# 转换为字典\n",
    "fish_weight_dict = {}\n",
    "pairs = fish_weight_str.split()\n",
    "for pair in pairs:\n",
    "    key, value = pair.split(':')\n",
    "    fish_weight_dict[int(key)] = int(value)\n",
    "    \n",
    "# 新增权重求和计算\n",
    "total_weight = sum(fish_weight_dict.values())\n",
    "\n",
    "print(\"提取结果：\")\n",
    "print(fish_weight_dict)\n",
    "print(f\"\\n权重总和：{total_weight}\")  # 新增总和输出\n"
   ]
  }
 ],
 "metadata": {
  "kernelspec": {
   "display_name": "fish",
   "language": "python",
   "name": "python3"
  },
  "language_info": {
   "codemirror_mode": {
    "name": "ipython",
    "version": 3
   },
   "file_extension": ".py",
   "mimetype": "text/x-python",
   "name": "python",
   "nbconvert_exporter": "python",
   "pygments_lexer": "ipython3",
   "version": "3.11.9"
  }
 },
 "nbformat": 4,
 "nbformat_minor": 2
}
