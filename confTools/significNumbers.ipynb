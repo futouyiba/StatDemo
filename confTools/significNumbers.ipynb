{
 "cells": [
  {
   "cell_type": "code",
   "execution_count": null,
   "id": "585c016c",
   "metadata": {},
   "outputs": [
    {
     "name": "stdout",
     "output_type": "stream",
     "text": [
      "{11743: 11500.0, 12000: 12000.0, 999: 1000.0, 15.6: 15.5, 0: 0}\n"
     ]
    },
    {
     "ename": "",
     "evalue": "",
     "output_type": "error",
     "traceback": [
      "\u001b[1;31mThe Kernel crashed while executing code in the current cell or a previous cell. \n",
      "\u001b[1;31mPlease review the code in the cell(s) to identify a possible cause of the failure. \n",
      "\u001b[1;31mClick <a href='https://aka.ms/vscodeJupyterKernelCrash'>here</a> for more info. \n",
      "\u001b[1;31mView Jupyter <a href='command:jupyter.viewOutput'>log</a> for further details."
     ]
    }
   ],
   "source": [
    "import math\n",
    "\n",
    "def round_to_sig(x, sig=2):\n",
    "    \"\"\"\n",
    "    将 x 舍入到 sig 位有效数字\n",
    "    \"\"\"\n",
    "    if x == 0:\n",
    "        return 0\n",
    "    # 计算x的阶（数量级）\n",
    "    digits = sig - int(math.floor(math.log10(abs(x)))) - 1\n",
    "    return round(x, digits)\n",
    "\n",
    "def process_value(x):\n",
    "    \"\"\"\n",
    "    对 x 先除以 5，舍入至两位有效数字，再乘以 5\n",
    "    \"\"\"\n",
    "    return round_to_sig(x/5, 2) * 5\n",
    "\n",
    "# 示例\n",
    "test_values = [11743, 12000, 999, 15.6,0]\n",
    "results = {x: process_value(x) for x in test_values}\n",
    "print(results)\n"
   ]
  },
  {
   "cell_type": "code",
   "execution_count": null,
   "id": "31571998",
   "metadata": {},
   "outputs": [],
   "source": []
  }
 ],
 "metadata": {
  "kernelspec": {
   "display_name": "fish",
   "language": "python",
   "name": "python3"
  },
  "language_info": {
   "codemirror_mode": {
    "name": "ipython",
    "version": 3
   },
   "file_extension": ".py",
   "mimetype": "text/x-python",
   "name": "python",
   "nbconvert_exporter": "python",
   "pygments_lexer": "ipython3",
   "version": "3.11.9"
  }
 },
 "nbformat": 4,
 "nbformat_minor": 5
}
